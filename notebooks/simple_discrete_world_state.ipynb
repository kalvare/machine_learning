{
 "cells": [
  {
   "cell_type": "markdown",
   "metadata": {},
   "source": [
    "# Modeling Simple World States With End-to-End Representation Learning"
   ]
  },
  {
   "cell_type": "markdown",
   "metadata": {},
   "source": [
    "In this notebook, we'll begin by modeling simple continuous and discrete world states, using deep learning to learn powerful representations in an end-to-end fashion using backpropogation. "
   ]
  },
  {
   "cell_type": "markdown",
   "metadata": {},
   "source": [
    "## Simple Discrete World State"
   ]
  },
  {
   "cell_type": "markdown",
   "metadata": {},
   "source": [
    "Let's begin by fomalizing the task at hand. We begin with a labeled dataset:"
   ]
  },
  {
   "cell_type": "markdown",
   "metadata": {},
   "source": [
    "$\\{(\\textbf{x}_i, w_i)_{i=1}^N\\}$, $\\textbf{x}_i \\in \\mathbb{R}^m$, $w_i \\in \\mathbb{N}$"
   ]
  },
  {
   "cell_type": "markdown",
   "metadata": {},
   "source": [
    "Here, $\\textbf{x}_i$ in an m dimensional vector living in the vector space defined by $m$ cartesian products of the set of real numbers $\\mathbb{R}$, and $w_i$ is a scaler, belonging to the set of natural numbers $\\mathbb{N}$, (0, 1, 2, ... $\\infty$). $x_i$ is a vector of features for a single observation, and $w_i$ is the world state corresponding to this observation. We want to develop a model for $pr(w_i | x_i)$."
   ]
  },
  {
   "cell_type": "markdown",
   "metadata": {},
   "source": [
    "Since our world state is discrete, we'll model this as:"
   ]
  },
  {
   "cell_type": "markdown",
   "metadata": {},
   "source": [
    "$pr(w_i | x_i; \\theta) = multinoulli_w[softmax(a_0, ..., a_{c - 1})]$, for $w_i \\in \\{0, ..., c - 1\\}$"
   ]
  },
  {
   "cell_type": "markdown",
   "metadata": {},
   "source": [
    "where $softmax(a_0, ..., a_{c-1})_k = \\frac{e^{a_k}}{\\sum_{j=0}^{c-1} e^j}$, and $a_k$ is the unnormalized log-probability corresponding to world state k, computed as $z_i^T\\theta_k$, where $z_i = f(x_i)$ and $f:$ $\\mathbb{R} \\to \\mathbb{R}$ is a (usually non-linear) mapping."
   ]
  },
  {
   "cell_type": "code",
   "execution_count": 2,
   "metadata": {},
   "outputs": [],
   "source": [
    "#TODO: Chapter before this \"Modeling Simple World States\" - Linear / non-linear regression; logsitic regression"
   ]
  },
  {
   "cell_type": "markdown",
   "metadata": {},
   "source": [
    "In this chapter, we explore the approach of learning $f$ in an end-to-end fashion through backpropogation. This $z_i$ for a given observation then becomes a powerful learned representation of that observation, such that $pr(w_i | x_i)$ can be computed using the same fomulation as a linear c-class logistic regression model."
   ]
  },
  {
   "cell_type": "markdown",
   "metadata": {},
   "source": [
    "### Deep Neural Network"
   ]
  },
  {
   "cell_type": "markdown",
   "metadata": {},
   "source": [
    "We first parameterize $f$ using a deep feedforward neural network, also known as a multi-layer perceptron. This network consists of layers of affine transformations, followed by element-wise non-linearities. Recall that any linear function $y=f(x)$, $y \\in \\mathbb{R}^m$ can be represented by a left matrix multiplication, $Ax=y$, $A \\in \\mathbb{R}^{m x n}$, $x \\in \\mathbb{R}^n$."
   ]
  },
  {
   "cell_type": "markdown",
   "metadata": {},
   "source": [
    "***"
   ]
  },
  {
   "cell_type": "markdown",
   "metadata": {},
   "source": [
    "$\\underline{Proof}$"
   ]
  },
  {
   "cell_type": "markdown",
   "metadata": {},
   "source": [
    "A linear function is a mapping between two vector spaces that preserves scalar addition and scalar multiplication. Formally, a function $f$: $\\mathbb{R}^n \\to \\mathbb{R}^m$ is linear iff $f(\\textbf{x} + \\textbf{y}) = f(\\textbf{x}) + f(\\textbf{y})$ and $f(\\alpha \\textbf{x}) = \\alpha f(\\textbf{x})$."
   ]
  },
  {
   "cell_type": "markdown",
   "metadata": {},
   "source": [
    "Let $f(\\textbf{x}) = \\textbf{A}\\textbf{x}$. Then,"
   ]
  },
  {
   "cell_type": "markdown",
   "metadata": {},
   "source": [
    "$f(\\textbf{x} + \\textbf{y}) = \\textbf{A}(\\textbf{x} + \\textbf{y})$"
   ]
  },
  {
   "cell_type": "markdown",
   "metadata": {},
   "source": [
    "= $\\textbf{A}\\textbf{x} + \\textbf{A}\\textbf{y}$ (distributive property of matrix multiplication)"
   ]
  },
  {
   "cell_type": "markdown",
   "metadata": {},
   "source": [
    "= $f(\\textbf{x}) + f(\\textbf{y})$ (by definition)"
   ]
  },
  {
   "cell_type": "markdown",
   "metadata": {},
   "source": [
    "Also,"
   ]
  },
  {
   "cell_type": "markdown",
   "metadata": {},
   "source": [
    "$f(\\alpha\\textbf{x}) = A(\\alpha\\textbf{x})$"
   ]
  },
  {
   "cell_type": "markdown",
   "metadata": {},
   "source": [
    "= $\\alpha\\textbf{A}\\textbf{x}$ (scalar commutivity)"
   ]
  },
  {
   "cell_type": "markdown",
   "metadata": {},
   "source": [
    "= $\\alpha f(\\textbf{x})$ (by definition)"
   ]
  },
  {
   "cell_type": "markdown",
   "metadata": {},
   "source": [
    "***"
   ]
  },
  {
   "cell_type": "markdown",
   "metadata": {},
   "source": [
    "So, by parameterizing layers in our network by $\\Phi^T\\textbf{x} + \\textbf{b} = \\textbf{y}$, $\\Phi \\in \\mathbb{R}^{m x n}$, $\\textbf{x} \\in \\mathbb{R}^n$, $\\textbf{b} \\in \\mathbb{R}^m$, $\\textbf{y} \\in \\mathbb{R}^m$, and estimating the parameters of $\\Phi$ and $b$, we can, in theory, recover any affine function. It turns out that by introducing the correct element-wise nonlinearities, we can actually approximate any computable function in general, including highly non-linear mappings. A deep neural network is a function approximator! Learnability is not gauranteed however, since deep neural networks are usually optimizing very high-dimensional non-convex cost functions and finding the global optimum is extremely unlikely in these cases, but this is a very powerful property for our models to have, and in practice we are generally able to approximate very powerful and useful functions. In our current case, the functions we will be approximating are non-linear mappings from an input $x_i$ to a powerful representation $z_i$, from which we apply a simple linear probabalistic classifier to parameterize the conditional multinoulli distribution over simple discrete world states."
   ]
  },
  {
   "cell_type": "code",
   "execution_count": 19,
   "metadata": {},
   "outputs": [],
   "source": [
    "# TODO: Cite Multilayer feedforward networks with a nonpolynomial activation function can approximate any function"
   ]
  },
  {
   "cell_type": "markdown",
   "metadata": {},
   "source": [
    "***"
   ]
  },
  {
   "cell_type": "code",
   "execution_count": 17,
   "metadata": {},
   "outputs": [],
   "source": [
    "import torch\n",
    "import torchvision\n",
    "import matplotlib.pyplot as plt\n",
    "import numpy as np\n",
    "\n",
    "from core.models.three_layer_fc import SimpleFullyConnected\n",
    "from core.optimizers.SGD import SGD\n",
    "from core.training.trainer import ClassificationTrainer"
   ]
  },
  {
   "cell_type": "code",
   "execution_count": 18,
   "metadata": {},
   "outputs": [],
   "source": [
    "# Set seeds for reproducibility\n",
    "torch.manual_seed(22)\n",
    "torch.backends.cudnn.deterministic = True\n",
    "torch.backends.cudnn.benchmark = False\n",
    "np.random.seed(22)\n",
    "import random # This is needed for pytorch transforms\n",
    "random.seed(22)"
   ]
  },
  {
   "cell_type": "code",
   "execution_count": 15,
   "metadata": {},
   "outputs": [
    {
     "name": "stdout",
     "output_type": "stream",
     "text": [
      "epoch (00001) -- training loss: (0.24559) -- training accuracy: (0.92712) -- validation loss (0.12013) -- validation accuracy: (0.96710)\n",
      "epoch (00002) -- training loss: (0.10179) -- training accuracy: (0.97257) -- validation loss (0.10589) -- validation accuracy: (0.96970)\n",
      "epoch (00003) -- training loss: (0.07237) -- training accuracy: (0.98080) -- validation loss (0.08455) -- validation accuracy: (0.97460)\n",
      "epoch (00004) -- training loss: (0.05493) -- training accuracy: (0.98633) -- validation loss (0.07534) -- validation accuracy: (0.97870)\n",
      "epoch (00005) -- training loss: (0.04495) -- training accuracy: (0.99002) -- validation loss (0.08014) -- validation accuracy: (0.97830)\n",
      "epoch (00006) -- training loss: (0.03606) -- training accuracy: (0.99331) -- validation loss (0.07099) -- validation accuracy: (0.98060)\n",
      "epoch (00007) -- training loss: (0.02978) -- training accuracy: (0.99534) -- validation loss (0.07206) -- validation accuracy: (0.98040)\n",
      "epoch (00008) -- training loss: (0.02611) -- training accuracy: (0.99671) -- validation loss (0.06832) -- validation accuracy: (0.98200)\n",
      "epoch (00009) -- training loss: (0.02284) -- training accuracy: (0.99818) -- validation loss (0.06867) -- validation accuracy: (0.98250)\n",
      "epoch (00010) -- training loss: (0.02053) -- training accuracy: (0.99855) -- validation loss (0.06923) -- validation accuracy: (0.98170)\n"
     ]
    },
    {
     "data": {
      "image/png": "[encoded data removed]",
      "text/plain": [
       "<Figure size 432x288 with 1 Axes>"
      ]
     },
     "metadata": {
      "needs_background": "light"
     },
     "output_type": "display_data"
    },
    {
     "data": {
      "image/png": "[encoded data removed]",
      "text/plain": [
       "<Figure size 432x288 with 1 Axes>"
      ]
     },
     "metadata": {
      "needs_background": "light"
     },
     "output_type": "display_data"
    }
   ],
   "source": [
    "device = torch.device('cpu')\n",
    "batch_size = 128\n",
    "\n",
    "n_classes = 10\n",
    "n_features = 28 * 28\n",
    "\n",
    "# Set up data transformations / augmentations\n",
    "transform = torchvision.transforms.Compose([\n",
    "            torchvision.transforms.ToTensor(),\n",
    "            torchvision.transforms.Normalize(\n",
    "                     mean=(0.1307,), std=(1,))\n",
    "])\n",
    "\n",
    "# Set up data source\n",
    "mnist_train = torchvision.datasets.MNIST('data', train=True, download=True,\n",
    "                                         transform=transform)\n",
    "train_loader = torch.utils.data.DataLoader(mnist_train, batch_size=batch_size, shuffle=True, drop_last=True)\n",
    "\n",
    "mnist_val = torchvision.datasets.MNIST('data', train=False, download=True,\n",
    "                                       transform=transform)\n",
    "val_loader = torch.utils.data.DataLoader(mnist_val, batch_size=batch_size, shuffle=False, drop_last=False)\n",
    "\n",
    "# Build model with chosen hyperparameters\n",
    "num_hidden = 328\n",
    "weight_decay = 2e-5\n",
    "lr = 8e-1\n",
    "num_epochs = 10\n",
    "net = SimpleFullyConnected(in_features=n_features, hidden_size=num_hidden, n_classes=n_classes,\n",
    "                           weight_init='Kaiming')\n",
    "net.to(device)\n",
    "optim = SGD(params=net.get_params(), gradients=net.get_gradients(), lr=lr,\n",
    "            weight_decay=weight_decay)\n",
    "trainer = ClassificationTrainer(data_loader=train_loader, network=net,\n",
    "                                optimizer=optim, len_training=len(mnist_train))\n",
    "train_losses, train_accuracies, val_losses, val_accuracies = \\\n",
    "    trainer.train(num_epochs=num_epochs, device=device,\n",
    "    validation_data_loader=val_loader,\n",
    "    len_validation=len(mnist_val), verbose=True)\n",
    "\n",
    "plt.plot(train_losses, c='b', label='train')\n",
    "plt.plot(val_losses, c='orange', label='val')\n",
    "plt.title('Loss')\n",
    "plt.xlabel('Epoch')\n",
    "plt.ylabel('Loss')\n",
    "plt.show()\n",
    "\n",
    "plt.plot(train_accuracies, c='b', label='train')\n",
    "plt.plot(val_accuracies, c='orange', label='val')\n",
    "plt.title('Accuracy')\n",
    "plt.xlabel('Epoch')\n",
    "plt.ylabel('Accuracy')\n",
    "plt.show()"
   ]
  },
  {
   "cell_type": "code",
   "execution_count": null,
   "metadata": {},
   "outputs": [],
   "source": []
  }
 ],
 "metadata": {
  "kernelspec": {
   "display_name": "Python 3",
   "language": "python",
   "name": "python3"
  },
  "language_info": {
   "codemirror_mode": {
    "name": "ipython",
    "version": 3
   },
   "file_extension": ".py",
   "mimetype": "text/x-python",
   "name": "python",
   "nbconvert_exporter": "python",
   "pygments_lexer": "ipython3",
   "version": "3.8.2"
  }
 },
 "nbformat": 4,
 "nbformat_minor": 4
}
